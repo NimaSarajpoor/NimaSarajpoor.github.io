{
 "cells": [
  {
   "cell_type": "raw",
   "id": "1e00c4da-1ec9-4402-a28b-6ad4b241b3a8",
   "metadata": {},
   "source": [
    "---\n",
    "title: \"Git basics\"\n",
    "format: \n",
    "  html:\n",
    "    code-fold: true\n",
    "    code-tools: true\n",
    "jupyter: python3\n",
    "---"
   ]
  },
  {
   "cell_type": "markdown",
   "id": "fb79ef47-2461-47d4-9a27-860858c1081a",
   "metadata": {},
   "source": [
    "# Git"
   ]
  },
  {
   "cell_type": "markdown",
   "id": "3a22dca3-8075-476e-b1bd-7264a553b992",
   "metadata": {},
   "source": [
    "`Git` is a version control tool. It helps you track the versions of your project as you make changes. \n",
    "\n",
    "**Note:** Github is a platform that allows developer to create and manage their code. It uses `Git` and some other stuff like access control, bug tracking, etc.\n",
    "\n",
    "We first show how we can use `Git`and we learn some basic commands. Then, we show how we can use it with `Github`."
   ]
  },
  {
   "cell_type": "markdown",
   "id": "5ef15537-bdff-4cb6-9e69-b4444386b7bb",
   "metadata": {},
   "source": [
    "### Example"
   ]
  },
  {
   "cell_type": "markdown",
   "id": "5a176353-aef3-4bf4-ab64-013579bd79a3",
   "metadata": {},
   "source": [
    "Say you want to write a program, and you may want to keep track of changes. So, let's move to a empty directory, let's call it data-science-realm. Here we now create an empty git-enabled (sub)directory that allows us to do version control over its files. "
   ]
  },
  {
   "cell_type": "markdown",
   "id": "c9f6c791-6cc6-4ac5-995d-1b4ded47a861",
   "metadata": {},
   "source": [
    "Run this command:\n",
    "\n",
    "```\n",
    "git init <Name-of-Directory>\n",
    "```\n",
    "\n",
    "<br>\n",
    "This will initialize a git-enabled directory under the current directory. \n",
    "\n",
    "**Note:** If you create a repository on Github and clone it so that you can work on it locally, a git-enabled directory whose name is the same as the name of repo will be created during the cloning process, and it is git-enabled! So, no need to run `git init ...` there. Once we get to the `Github` part, I will explain how things are similar/different."
   ]
  },
  {
   "cell_type": "markdown",
   "id": "d1ad3aaf-91a9-445f-863c-65ea89eddfb2",
   "metadata": {},
   "source": [
    "At a very high-level, this is how `Git` works. It starts with a main (or master in older versions) branch. From there, person X can create a new branch B1 and works on some stuff. At the same time, person Y can create another new branch B2 (off the main branch) and starts working on some other stuff. \n",
    "\n",
    "```\n",
    "A _ B1\n",
    "  \\ B2 \n",
    "```"
   ]
  },
  {
   "cell_type": "markdown",
   "id": "bc4e6e1d-0034-4567-b1a7-0c34820e44f6",
   "metadata": {},
   "source": [
    "**Note:** In case you are wondering \"why not just copy it?\": Although you can copy the content of directory and start working on your stuff, it can become difficult to update the project by merging it to main. Furtherfore, you will not be able to track your own changes easily later."
   ]
  },
  {
   "cell_type": "markdown",
   "id": "f1b6e87b-0d22-4d7c-acb6-1fd3cdb535c9",
   "metadata": {},
   "source": [
    "Let's say you are in the main branch, and you want to create a new branch called `new-branch`. To achieve this, run the following command:\n",
    "\n",
    "```\n",
    "git checkout -b new-branch\n",
    "```"
   ]
  },
  {
   "cell_type": "markdown",
   "id": "b2cad62e-726f-4254-8028-a6db18463d78",
   "metadata": {},
   "source": [
    "This will create the new branch `new-branch` and you are already moved to this branch. So, whatever changes you make on your files will be on this branch. Let's create a file called `test_file.txt` and write `hello world!` in it. Let's close and save it.  Note that the change can be observed but it is not saved on this branch. "
   ]
  },
  {
   "cell_type": "code",
   "execution_count": null,
   "id": "3ae9e64f-b312-4400-8825-5326d36f89a3",
   "metadata": {},
   "outputs": [],
   "source": []
  }
 ],
 "metadata": {
  "kernelspec": {
   "display_name": "Python 3 (ipykernel)",
   "language": "python",
   "name": "python3"
  },
  "language_info": {
   "codemirror_mode": {
    "name": "ipython",
    "version": 3
   },
   "file_extension": ".py",
   "mimetype": "text/x-python",
   "name": "python",
   "nbconvert_exporter": "python",
   "pygments_lexer": "ipython3",
   "version": "3.12.2"
  }
 },
 "nbformat": 4,
 "nbformat_minor": 5
}
