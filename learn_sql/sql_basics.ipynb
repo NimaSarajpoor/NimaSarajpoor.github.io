{
 "cells": [
  {
   "cell_type": "raw",
   "id": "28572d79-a9a2-474c-977c-e950712b6345",
   "metadata": {},
   "source": [
    "---\n",
    "title: \"SQL basics\"\n",
    "format: \n",
    "  html:\n",
    "    code-fold: false\n",
    "    code-tools: true\n",
    "jupyter: python3\n",
    "---"
   ]
  },
  {
   "cell_type": "markdown",
   "id": "0f27a564-4751-4ffd-a6fc-311044eb5059",
   "metadata": {},
   "source": [
    "# SQL"
   ]
  },
  {
   "cell_type": "markdown",
   "id": "6a0a7117-8f71-4507-a0da-131ddd733f6b",
   "metadata": {},
   "source": [
    "**SQL stands for \"Structured Query Language\"**, and it is used to communicate with a database. In this section, we will talk about SQL and play with it! There are plenty of resources out there to learn SQL. My favorites are:\n",
    "\n",
    "w3  school: https://www.w3schools.com/sql/\n",
    "<br>\n",
    "SQLBolt: https://sqlbolt.com\n",
    "<br>\n",
    "Leetcode: https://leetcode.com/problemset/database/\n",
    "<br>\n",
    "Greg Wilson: https://gvwilson.github.io/sql-tutorial/"
   ]
  },
  {
   "cell_type": "markdown",
   "id": "9778f7e5-75e3-4f78-9cef-86935dc536c5",
   "metadata": {},
   "source": [
    "**There are a few other things one may try to learn as well in this SQL zone...**\n",
    "\n",
    "(1) How to test your SQL query? Unit testing with pyspark: \n",
    "   * https://davidlindelof.com/unit-testing-sql-with-pyspark/ \n",
    "   * https://andrewpwheeler.com/2023/02/02/setting-up-pyspark-to-run-sql-tests/  \n",
    "<br>\n",
    "\n",
    "(2) How to connect to a database, and run your SQL query? Learn about ODBC (and JDBC), and pyodbc, and SQLAlchemy.\n",
    "\n",
    "<br>\n",
    "(3) How to create a database yourself, and just play with it? Learn the built-in module sqlite3, and use it to create a db and table."
   ]
  },
  {
   "cell_type": "markdown",
   "id": "1fd6be23-eb4c-4984-b812-983c83931aba",
   "metadata": {},
   "source": []
  }
 ],
 "metadata": {
  "kernelspec": {
   "display_name": "Python 3 (ipykernel)",
   "language": "python",
   "name": "python3"
  },
  "language_info": {
   "codemirror_mode": {
    "name": "ipython",
    "version": 3
   },
   "file_extension": ".py",
   "mimetype": "text/x-python",
   "name": "python",
   "nbconvert_exporter": "python",
   "pygments_lexer": "ipython3",
   "version": "3.10.13"
  }
 },
 "nbformat": 4,
 "nbformat_minor": 5
}
