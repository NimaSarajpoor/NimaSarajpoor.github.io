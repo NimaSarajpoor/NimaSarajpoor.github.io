{
 "cells": [
  {
   "cell_type": "raw",
   "id": "28572d79-a9a2-474c-977c-e950712b6345",
   "metadata": {},
   "source": [
    "---\n",
    "title: \"Shell basics\"\n",
    "format: \n",
    "  html:\n",
    "    code-fold: false\n",
    "    code-tools: true\n",
    "jupyter: python3\n",
    "---"
   ]
  },
  {
   "cell_type": "markdown",
   "id": "0f27a564-4751-4ffd-a6fc-311044eb5059",
   "metadata": {},
   "source": [
    "# SQL"
   ]
  },
  {
   "cell_type": "markdown",
   "id": "6a0a7117-8f71-4507-a0da-131ddd733f6b",
   "metadata": {},
   "source": [
    "SQL stands for \"Structured Query Language\", and it is used to communicate with a database. In this section, we will talk about SQL and play with it!"
   ]
  },
  {
   "cell_type": "code",
   "execution_count": null,
   "id": "6f424e47-68af-4e48-88c2-bbe2077932ad",
   "metadata": {},
   "outputs": [],
   "source": []
  }
 ],
 "metadata": {
  "kernelspec": {
   "display_name": "Python 3 (ipykernel)",
   "language": "python",
   "name": "python3"
  },
  "language_info": {
   "codemirror_mode": {
    "name": "ipython",
    "version": 3
   },
   "file_extension": ".py",
   "mimetype": "text/x-python",
   "name": "python",
   "nbconvert_exporter": "python",
   "pygments_lexer": "ipython3",
   "version": "3.10.13"
  }
 },
 "nbformat": 4,
 "nbformat_minor": 5
}
