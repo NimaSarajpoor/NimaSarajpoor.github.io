{
 "cells": [
  {
   "cell_type": "raw",
   "id": "74bc5423-d26a-41e8-9d60-bf331f5d338c",
   "metadata": {},
   "source": [
    "---\n",
    "title: \"Shell basics\"\n",
    "format: \n",
    "  html:\n",
    "    code-fold: false\n",
    "    code-tools: true\n",
    "jupyter: python3\n",
    "---"
   ]
  },
  {
   "cell_type": "markdown",
   "id": "7b04fc90-1821-4796-95c5-191d943bd291",
   "metadata": {},
   "source": [
    "This lesson covers some basic commands in Shell terminal. First, let's take a quick look at some useful commands."
   ]
  },
  {
   "cell_type": "markdown",
   "id": "3f216fe7-066b-486e-871d-2f597cf9bef6",
   "metadata": {},
   "source": [
    "# Basic commands\n",
    "  * pwd\n",
    "  * ls\n",
    "  * cp: copy file\n",
    "  * mv: move file\n",
    "  * rm: remove file\n",
    "  * rmdir: remove directory \n",
    "  * mkdir: create directory\n",
    "  * touch: create file\n",
    "  * uname: retreive important information about system"
   ]
  },
  {
   "cell_type": "markdown",
   "id": "1c0730b0-b307-4743-b9c4-8e60b499f19c",
   "metadata": {},
   "source": [
    "In jupyter notebook, we can run it by adding a leading exclamation mark."
   ]
  },
  {
   "cell_type": "code",
   "execution_count": 2,
   "id": "7148a5ee-1964-4bb2-86af-cc0a6468b80b",
   "metadata": {},
   "outputs": [
    {
     "name": "stdout",
     "output_type": "stream",
     "text": [
      "Darwin\n"
     ]
    }
   ],
   "source": [
    "!uname "
   ]
  },
  {
   "cell_type": "markdown",
   "id": "4e3ecb93-b2e6-42d2-a47f-52b9a1b6ab4e",
   "metadata": {},
   "source": [
    "<br>\n",
    "\n",
    "**Note:** Some command comes with their own flags. For example, three important flags of `ls` are `-1`, `-a`, and `-l`.\n",
    "\n",
    "* `ls -1` will list the subdirectories and files vertically.\n",
    "* `ls -a` will list ALL subdirectories and files, including the dot files.\n",
    "* `ls -l` will list the subdirectories and files while including the permission for write/read/execute access."
   ]
  },
  {
   "cell_type": "markdown",
   "id": "bc8a5f6b-d5e7-42fe-b753-25c6e648602e",
   "metadata": {},
   "source": [
    "**Note:** Shell scripting is a bit different as it is about collecting a set of commandas and running them together one afther another. It gives you a power for manipulating files. So, let's say you want to reduce the running time of a function. To manage different versions of the same function, you use `git` (Read more here: https://nimasarajpoor.github.io/learn_git/Git.html), and have different versions of the same function in different branches. But, how are you going to compare the results? One way is to switch between branches and run the code. Another way is to write a shell script that `checkout` each branch, run the script, and write the result into a text file. \n",
    "\n",
    "\n",
    "```shell\n",
    "#!/bin/bash\n",
    "\n",
    "git checkout main\n",
    "\n",
    "rm -rf runtime_data.txt\n",
    "touch runtime_data.txt\n",
    " \n",
    "for i in \"$@\"\n",
    "do\n",
    "echo \"branch: $i\" >> runtime_data.txt\n",
    "git checkout $i | python check_runtime.py | tee -a runtime_data.txt\n",
    "echo \"-----------------------------------\" >> runtime_data.txt\n",
    "done\n",
    "\n",
    "git checkout main\n",
    "```"
   ]
  },
  {
   "cell_type": "markdown",
   "id": "9efb68ed-813f-45ec-acad-24928a607227",
   "metadata": {},
   "source": [
    "#### Some resources:\n",
    "* https://www.learnshell.org\n",
    "* https://ryanstutorials.net/bash-scripting-tutorial/\n",
    "* [Corey Schafer Videos](https://www.youtube.com/playlist?list=PL-osiE80TeTvGhHkpvfmKWOiIPF8UVy6c)"
   ]
  },
  {
   "cell_type": "code",
   "execution_count": null,
   "id": "d2c71793-794a-4244-867a-28ef57b1a8c3",
   "metadata": {},
   "outputs": [],
   "source": []
  }
 ],
 "metadata": {
  "kernelspec": {
   "display_name": "Python 3 (ipykernel)",
   "language": "python",
   "name": "python3"
  },
  "language_info": {
   "codemirror_mode": {
    "name": "ipython",
    "version": 3
   },
   "file_extension": ".py",
   "mimetype": "text/x-python",
   "name": "python",
   "nbconvert_exporter": "python",
   "pygments_lexer": "ipython3",
   "version": "3.10.13"
  }
 },
 "nbformat": 4,
 "nbformat_minor": 5
}
