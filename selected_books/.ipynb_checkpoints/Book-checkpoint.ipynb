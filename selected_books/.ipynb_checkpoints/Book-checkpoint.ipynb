{
 "cells": [
  {
   "cell_type": "raw",
   "id": "cfc7637e-bf6a-4517-be57-41acf054525c",
   "metadata": {},
   "source": [
    "---\n",
    "title: \"Books\"\n",
    "format: \n",
    "  html:\n",
    "    code-fold: false\n",
    "jupyter: python3\n",
    "---"
   ]
  },
  {
   "cell_type": "markdown",
   "id": "65b7c47a-b697-4fce-ba2f-23fe9da14879",
   "metadata": {},
   "source": [
    "### Completed Books\n",
    "\n",
    "* The compound effect\n",
    "* Data Mining and Knowledge Discovery\n",
    "* Introduction to Statistical Learning\n",
    "\n",
    "### Reading\n",
    "* Designing Machine Learning Systems: An Iterative Process for Production-Ready Applications\n",
    "* https://do4ds.com\n",
    "* Build a Large Language Model\n",
    "* CFA Part 1 "
   ]
  },
  {
   "cell_type": "code",
   "execution_count": null,
   "id": "0450aaa1-8ecb-423e-a3c6-47a503222c33",
   "metadata": {},
   "outputs": [],
   "source": []
  }
 ],
 "metadata": {
  "kernelspec": {
   "display_name": "Python 3 (ipykernel)",
   "language": "python",
   "name": "python3"
  },
  "language_info": {
   "codemirror_mode": {
    "name": "ipython",
    "version": 3
   },
   "file_extension": ".py",
   "mimetype": "text/x-python",
   "name": "python",
   "nbconvert_exporter": "python",
   "pygments_lexer": "ipython3",
   "version": "3.10.13"
  }
 },
 "nbformat": 4,
 "nbformat_minor": 5
}
