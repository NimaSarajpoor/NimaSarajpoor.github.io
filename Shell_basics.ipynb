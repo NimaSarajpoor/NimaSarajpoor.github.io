{
 "cells": [
  {
   "cell_type": "raw",
   "id": "74bc5423-d26a-41e8-9d60-bf331f5d338c",
   "metadata": {},
   "source": [
    "---\n",
    "title: \"Shell basics\"\n",
    "format: \n",
    "  html:\n",
    "    code-fold: false\n",
    "    code-tools: true\n",
    "jupyter: python3\n",
    "---"
   ]
  },
  {
   "cell_type": "markdown",
   "id": "7b04fc90-1821-4796-95c5-191d943bd291",
   "metadata": {},
   "source": [
    "This lesson covers some basic commands in Shell terminal. First, let's take a quick look at some useful commands."
   ]
  },
  {
   "cell_type": "markdown",
   "id": "3f216fe7-066b-486e-871d-2f597cf9bef6",
   "metadata": {},
   "source": [
    "# Basic commands\n",
    "  * pwd\n",
    "  * ls\n",
    "  * mkdir\n",
    "  * cp\n",
    "  * rm\n",
    "  * touch\n",
    "  * uname"
   ]
  },
  {
   "cell_type": "markdown",
   "id": "1c0730b0-b307-4743-b9c4-8e60b499f19c",
   "metadata": {},
   "source": [
    "Let's start from the first command, `pwd`. In jupyter notebook, we can run it by adding a leading exclamation mark."
   ]
  },
  {
   "cell_type": "code",
   "execution_count": 11,
   "id": "7148a5ee-1964-4bb2-86af-cc0a6468b80b",
   "metadata": {},
   "outputs": [
    {
     "name": "stdout",
     "output_type": "stream",
     "text": [
      "Darwin\n"
     ]
    }
   ],
   "source": [
    "!uname  # pwd: print working directory"
   ]
  },
  {
   "cell_type": "markdown",
   "id": "4e3ecb93-b2e6-42d2-a47f-52b9a1b6ab4e",
   "metadata": {},
   "source": [
    "<br>\n",
    "\n",
    "**Note:** Some command comes with their own flags. For example, three important flags of `ls` are `-1`, `-a`, and `-l`.\n",
    "\n",
    "* `ls -1` will list the subdirectories and files vertically.\n",
    "* `ls -a` will list ALL subdirectories and files, including the dot files.\n",
    "* `ls -l` will list the subdirectories and files while including the permission for write/read/execute access."
   ]
  },
  {
   "cell_type": "code",
   "execution_count": null,
   "id": "4ce2542a-0c03-41cd-a489-a55dffa98897",
   "metadata": {},
   "outputs": [],
   "source": []
  },
  {
   "cell_type": "code",
   "execution_count": null,
   "id": "ae15445b-0e81-428f-acb3-e1d5943d242c",
   "metadata": {},
   "outputs": [],
   "source": []
  }
 ],
 "metadata": {
  "kernelspec": {
   "display_name": "Python 3 (ipykernel)",
   "language": "python",
   "name": "python3"
  },
  "language_info": {
   "codemirror_mode": {
    "name": "ipython",
    "version": 3
   },
   "file_extension": ".py",
   "mimetype": "text/x-python",
   "name": "python",
   "nbconvert_exporter": "python",
   "pygments_lexer": "ipython3",
   "version": "3.12.2"
  }
 },
 "nbformat": 4,
 "nbformat_minor": 5
}
