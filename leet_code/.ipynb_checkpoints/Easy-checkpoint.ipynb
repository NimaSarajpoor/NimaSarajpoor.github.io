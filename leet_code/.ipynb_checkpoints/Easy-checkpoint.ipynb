{
 "cells": [
  {
   "cell_type": "raw",
   "id": "b4611906-0e6c-41c1-8b48-ff81dfe9523e",
   "metadata": {},
   "source": [
    "---\n",
    "title: \"Leet Code (Easy)\"\n",
    "format: \n",
    "  html:\n",
    "    code-fold: false\n",
    "    code-tools: true\n",
    "jupyter: python3\n",
    "---"
   ]
  },
  {
   "cell_type": "markdown",
   "id": "6362a3fb-721b-4580-9204-be0b2a6b56bb",
   "metadata": {},
   "source": [
    "This is just some examples from Leet Code problems (easy). In addition to the solution for each problem, I will write a test. And in addition to the time complexity, we will try to measure it. We also work on ways to optimize the code further if possible. "
   ]
  },
  {
   "cell_type": "code",
   "execution_count": 3,
   "id": "0475b0ab-9f76-413e-86bf-824ee93b8205",
   "metadata": {},
   "outputs": [],
   "source": [
    "import random\n",
    "\n",
    "import numpy as np"
   ]
  },
  {
   "cell_type": "markdown",
   "id": "edf0e62a-f63b-4ee7-8e2d-6202244199a2",
   "metadata": {},
   "source": [
    "# Two Sum"
   ]
  },
  {
   "cell_type": "markdown",
   "id": "b699c075-afcb-4549-9a8c-a51649546c52",
   "metadata": {},
   "source": [
    "Link: https://leetcode.com/problems/two-sum/\n",
    "\n",
    "Summary of Problem Description: Given a list of numbers, and a target value, return the indices that their sum is the target."
   ]
  },
  {
   "cell_type": "code",
   "execution_count": 21,
   "id": "5bf9c5ec-ad02-45b8-87c0-abddef3ee36f",
   "metadata": {},
   "outputs": [],
   "source": [
    "def func_v1(nums, target):\n",
    "    \"\"\"\n",
    "    For a given list of intergers, nums, find the two indices whose\n",
    "    values are added up to `target`.\n",
    "\n",
    "    Parameters\n",
    "    ----------\n",
    "    nums: list\n",
    "        A list of integer numbers\n",
    "\n",
    "    target : int\n",
    "        An integer that is treated as the target value\n",
    "\n",
    "    \n",
    "    Returns\n",
    "    -------\n",
    "    out : list\n",
    "        A list of length two that contains the indices whose sum\n",
    "        is equal to `target`\n",
    "    \"\"\"\n",
    "    n = len(nums)\n",
    "    for i in range(n - 1):\n",
    "        for j in range(n):\n",
    "            if nums[i] + nums[j] == target:\n",
    "                return [i, j]"
   ]
  },
  {
   "cell_type": "code",
   "execution_count": 23,
   "id": "6e2a0f6d-3459-4b23-a4eb-3615165ea375",
   "metadata": {},
   "outputs": [
    {
     "data": {
      "text/plain": [
       "[1, 3]"
      ]
     },
     "execution_count": 23,
     "metadata": {},
     "output_type": "execute_result"
    }
   ],
   "source": [
    "func_v1([0, 1, 2, 3], 4)"
   ]
  },
  {
   "cell_type": "markdown",
   "id": "4fb72f09-cee0-4e9f-9de4-f96ce481927f",
   "metadata": {},
   "source": [
    "**Exercise:**\n",
    "* What is the time complexity?\n",
    "* Can we make it faster? Say $\\mathcal{O}(NlogN)$? How about $\\mathcal{O}{(N)}$? What is space complexity in each case?\n",
    "* Can you write a test for it?"
   ]
  },
  {
   "cell_type": "markdown",
   "id": "98c608ba-7d1d-4f1b-a402-8edb35f2e722",
   "metadata": {},
   "source": [
    "# Palindrom\n",
    "link: https://leetcode.com/problems/palindrome-number/description/"
   ]
  },
  {
   "cell_type": "code",
   "execution_count": 30,
   "id": "d479c86e-fe04-49a6-9966-7fde41e95597",
   "metadata": {},
   "outputs": [],
   "source": [
    "def is_palindrom(x):\n",
    "    \"\"\"\n",
    "    Parameters\n",
    "    ----------\n",
    "    x : int\n",
    "        An integer number\n",
    "\n",
    "    Returns\n",
    "    -------\n",
    "    out : bool\n",
    "        True if x is palindrom, meaning its digits can be read the same \n",
    "        from left to right, and right to left.\n",
    "    \"\"\"\n",
    "    x_str = str(x)\n",
    "\n",
    "    return x_str == x_str[::-1]    "
   ]
  },
  {
   "cell_type": "code",
   "execution_count": 33,
   "id": "5f2dc961-27e5-4e21-93f3-4e2ebd30755b",
   "metadata": {},
   "outputs": [],
   "source": [
    "assert is_palindrom(121) == True\n",
    "assert is_palindrom(123) == False"
   ]
  },
  {
   "cell_type": "code",
   "execution_count": null,
   "id": "62673a70-4f84-4056-b027-c356e06c77b2",
   "metadata": {},
   "outputs": [],
   "source": []
  }
 ],
 "metadata": {
  "kernelspec": {
   "display_name": "Python 3 (ipykernel)",
   "language": "python",
   "name": "python3"
  },
  "language_info": {
   "codemirror_mode": {
    "name": "ipython",
    "version": 3
   },
   "file_extension": ".py",
   "mimetype": "text/x-python",
   "name": "python",
   "nbconvert_exporter": "python",
   "pygments_lexer": "ipython3",
   "version": "3.9.15"
  }
 },
 "nbformat": 4,
 "nbformat_minor": 5
}
