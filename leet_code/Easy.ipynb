{
 "cells": [
  {
   "cell_type": "raw",
   "id": "b4611906-0e6c-41c1-8b48-ff81dfe9523e",
   "metadata": {},
   "source": [
    "---\n",
    "title: \"Leet Code (Easy)\"\n",
    "format: \n",
    "  html:\n",
    "    code-fold: false\n",
    "    code-tools: true\n",
    "jupyter: python3\n",
    "---"
   ]
  },
  {
   "cell_type": "markdown",
   "id": "6362a3fb-721b-4580-9204-be0b2a6b56bb",
   "metadata": {},
   "source": [
    "This is just some examples from Leet Code problems (easy). In addition to the solution for each problem, I will write a test. And in addition to the time complexity, we will try to measure it. We also work on ways to optimize the code further if possible. "
   ]
  },
  {
   "cell_type": "markdown",
   "id": "edf0e62a-f63b-4ee7-8e2d-6202244199a2",
   "metadata": {},
   "source": [
    "# Two Sum"
   ]
  },
  {
   "cell_type": "markdown",
   "id": "b699c075-afcb-4549-9a8c-a51649546c52",
   "metadata": {},
   "source": [
    "Link: https://leetcode.com/problems/two-sum/\n",
    "\n",
    "Summary of Problem Description: Given a list of numbers, and a target value, return the indices that their sum is the target."
   ]
  },
  {
   "cell_type": "code",
   "execution_count": 3,
   "id": "5bf9c5ec-ad02-45b8-87c0-abddef3ee36f",
   "metadata": {},
   "outputs": [],
   "source": [
    "def func_v1(nums, target):\n",
    "    \"\"\"\n",
    "    For a given list of intergers, nums, find the two indices whose\n",
    "    values are added up to `target`.\n",
    "\n",
    "    Parameters\n",
    "    ----------\n",
    "    nums: list\n",
    "        A list of integer numbers\n",
    "\n",
    "    target : int\n",
    "        An integer that is treated as the target value\n",
    "\n",
    "    \n",
    "    Returns\n",
    "    -------\n",
    "    out : list\n",
    "        A list of length two that contains the indices whose sum\n",
    "        is equal to `target`\n",
    "    \"\"\"\n",
    "    n = len(nums)\n",
    "    for i in range(n - 1):\n",
    "        for j in range(n):\n",
    "            if nums[i] + nums[j] == target:\n",
    "                out = [i, j]\n",
    "                return out"
   ]
  },
  {
   "cell_type": "code",
   "execution_count": 4,
   "id": "6e2a0f6d-3459-4b23-a4eb-3615165ea375",
   "metadata": {},
   "outputs": [
    {
     "data": {
      "text/plain": [
       "[0, 2]"
      ]
     },
     "execution_count": 4,
     "metadata": {},
     "output_type": "execute_result"
    }
   ],
   "source": [
    "func_v1([1, 2, 3], 4)"
   ]
  },
  {
   "cell_type": "code",
   "execution_count": null,
   "id": "d74925e3-867a-4233-aaa4-59163c9aed36",
   "metadata": {},
   "outputs": [],
   "source": []
  }
 ],
 "metadata": {
  "kernelspec": {
   "display_name": "Python 3 (ipykernel)",
   "language": "python",
   "name": "python3"
  },
  "language_info": {
   "codemirror_mode": {
    "name": "ipython",
    "version": 3
   },
   "file_extension": ".py",
   "mimetype": "text/x-python",
   "name": "python",
   "nbconvert_exporter": "python",
   "pygments_lexer": "ipython3",
   "version": "3.9.15"
  }
 },
 "nbformat": 4,
 "nbformat_minor": 5
}
