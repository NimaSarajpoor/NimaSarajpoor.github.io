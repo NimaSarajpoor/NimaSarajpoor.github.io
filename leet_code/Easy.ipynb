{
 "cells": [
  {
   "cell_type": "raw",
   "id": "b4611906-0e6c-41c1-8b48-ff81dfe9523e",
   "metadata": {},
   "source": [
    "---\n",
    "title: \"Leet Code (Easy)\"\n",
    "format: \n",
    "  html:\n",
    "    code-fold: false\n",
    "    code-tools: true\n",
    "jupyter: python3\n",
    "---"
   ]
  },
  {
   "cell_type": "markdown",
   "id": "6362a3fb-721b-4580-9204-be0b2a6b56bb",
   "metadata": {},
   "source": [
    "This is just some examples from Leet Code problems (easy). In addition to the solution for each problem, I will write a test. And in addition to the time complexity, we will try to measure it. We also work on ways to optimize the code further if possible. "
   ]
  },
  {
   "cell_type": "code",
   "execution_count": 3,
   "id": "0475b0ab-9f76-413e-86bf-824ee93b8205",
   "metadata": {},
   "outputs": [],
   "source": [
    "import random\n",
    "\n",
    "import numpy as np"
   ]
  },
  {
   "cell_type": "markdown",
   "id": "edf0e62a-f63b-4ee7-8e2d-6202244199a2",
   "metadata": {},
   "source": [
    "# Two Sum"
   ]
  },
  {
   "cell_type": "markdown",
   "id": "b699c075-afcb-4549-9a8c-a51649546c52",
   "metadata": {},
   "source": [
    "Link: https://leetcode.com/problems/two-sum/\n",
    "\n",
    "Summary of Problem Description: Given a list of numbers, and a target value, return the indices that their sum is the target."
   ]
  },
  {
   "cell_type": "code",
   "execution_count": 21,
   "id": "5bf9c5ec-ad02-45b8-87c0-abddef3ee36f",
   "metadata": {},
   "outputs": [],
   "source": [
    "def func_v1(nums, target):\n",
    "    \"\"\"\n",
    "    For a given list of intergers, nums, find the two indices whose\n",
    "    values are added up to `target`.\n",
    "\n",
    "    Parameters\n",
    "    ----------\n",
    "    nums: list\n",
    "        A list of integer numbers\n",
    "\n",
    "    target : int\n",
    "        An integer that is treated as the target value\n",
    "\n",
    "    \n",
    "    Returns\n",
    "    -------\n",
    "    out : list\n",
    "        A list of length two that contains the indices whose sum\n",
    "        is equal to `target`\n",
    "    \"\"\"\n",
    "    n = len(nums)\n",
    "    for i in range(n - 1):\n",
    "        for j in range(n):\n",
    "            if nums[i] + nums[j] == target:\n",
    "                return [i, j]"
   ]
  },
  {
   "cell_type": "code",
   "execution_count": 23,
   "id": "6e2a0f6d-3459-4b23-a4eb-3615165ea375",
   "metadata": {},
   "outputs": [
    {
     "data": {
      "text/plain": [
       "[1, 3]"
      ]
     },
     "execution_count": 23,
     "metadata": {},
     "output_type": "execute_result"
    }
   ],
   "source": [
    "func_v1([0, 1, 2, 3], 4)"
   ]
  },
  {
   "cell_type": "markdown",
   "id": "4fb72f09-cee0-4e9f-9de4-f96ce481927f",
   "metadata": {},
   "source": [
    "**Exercise:**\n",
    "* What is the time complexity?\n",
    "* Can we make it faster? Say $\\mathcal{O}(NlogN)$? How about $\\mathcal{O}{(N)}$? What is space complexity in each case?\n",
    "* Can you write a test for it?"
   ]
  },
  {
   "cell_type": "markdown",
   "id": "98c608ba-7d1d-4f1b-a402-8edb35f2e722",
   "metadata": {},
   "source": [
    "# Palindrom\n",
    "link: https://leetcode.com/problems/palindrome-number/description/"
   ]
  },
  {
   "cell_type": "code",
   "execution_count": 30,
   "id": "d479c86e-fe04-49a6-9966-7fde41e95597",
   "metadata": {},
   "outputs": [],
   "source": [
    "def is_palindrom(x):\n",
    "    \"\"\"\n",
    "    Parameters\n",
    "    ----------\n",
    "    x : int\n",
    "        An integer number\n",
    "\n",
    "    Returns\n",
    "    -------\n",
    "    out : bool\n",
    "        True if x is palindrom, meaning its digits can be read the same \n",
    "        from left to right, and right to left.\n",
    "    \"\"\"\n",
    "    x_str = str(x)\n",
    "\n",
    "    return x_str == x_str[::-1]    "
   ]
  },
  {
   "cell_type": "code",
   "execution_count": 33,
   "id": "5f2dc961-27e5-4e21-93f3-4e2ebd30755b",
   "metadata": {},
   "outputs": [],
   "source": [
    "assert is_palindrom(121) == True\n",
    "assert is_palindrom(123) == False"
   ]
  },
  {
   "cell_type": "markdown",
   "id": "cd2a86cf-7735-4602-bda0-22cfdd3d2189",
   "metadata": {},
   "source": [
    "# Roman to Integer\n",
    "link: https://leetcode.com/problems/roman-to-integer/description/"
   ]
  },
  {
   "cell_type": "raw",
   "id": "3221b411-ec3d-4a51-b9a1-e2d111376479",
   "metadata": {},
   "source": [
    "Symbol       Value\n",
    "I             1\n",
    "V             5\n",
    "X             10\n",
    "L             50\n",
    "C             100\n",
    "D             500\n",
    "M             1000"
   ]
  },
  {
   "cell_type": "markdown",
   "id": "40ad0928-e2b5-48eb-92d5-1b84d7edb095",
   "metadata": {},
   "source": [
    "Note: \n",
    "* oman numerals are USUALLY written largest to smallest from left to right.\n",
    "* Example: `VI` is `V + I`, which is equivalent to 5 + 1 = 6\n",
    "* However, `IV` is `V - I` since I (smaller number) comes before V (larger number). "
   ]
  },
  {
   "cell_type": "code",
   "execution_count": 3,
   "id": "d7bfb39a-633d-4929-b141-a2d425a9ee28",
   "metadata": {},
   "outputs": [],
   "source": [
    "def convert_roman_to_int(s):\n",
    "    \"\"\"\n",
    "    Parameters\n",
    "    ----------\n",
    "    s : str\n",
    "        A string value representing a value in Roman format\n",
    "\n",
    "    Returns\n",
    "    -------\n",
    "    out : int\n",
    "        The integer value that is equivalent to the roman number `s`\n",
    "    \"\"\"\n",
    "    roman_values = {\n",
    "        'I' : 1,\n",
    "        'V' : 5,\n",
    "        'X' : 10,\n",
    "        'L' : 50,\n",
    "        'C' : 100,\n",
    "        'D' : 500,\n",
    "        'M' : 1000,\n",
    "    }\n",
    "\n",
    "    out = 0\n",
    "    i = 0\n",
    "    while i < len(s):\n",
    "        if i + 1 < len(s) and roman_values[s[i]] < roman_values[s[i + 1]]:\n",
    "            v = roman_values[s[i + 1]] - roman_values[s[i]]\n",
    "            i += 2\n",
    "        else:\n",
    "            v = roman_values[s[i]]\n",
    "            i += 1\n",
    "\n",
    "        out += v\n",
    "\n",
    "    return out"
   ]
  },
  {
   "cell_type": "code",
   "execution_count": 5,
   "id": "25d8cfa0-5c89-42e1-a022-53190e7dc935",
   "metadata": {},
   "outputs": [],
   "source": [
    "s = 'I'\n",
    "assert convert_roman_to_int(s)  == 1\n",
    "\n",
    "s = 'II'\n",
    "assert convert_roman_to_int(s)  == 2\n",
    "\n",
    "s = 'IV'\n",
    "assert convert_roman_to_int(s)  == 4\n",
    "\n",
    "s = 'VI'\n",
    "assert convert_roman_to_int(s)  == 6"
   ]
  },
  {
   "cell_type": "markdown",
   "id": "42d27e5d-93fb-4b41-9f59-9e2e376992e0",
   "metadata": {},
   "source": [
    "# Longest Common Prefix\n",
    "link: https://leetcode.com/problems/longest-common-prefix/description/"
   ]
  },
  {
   "cell_type": "code",
   "execution_count": 9,
   "id": "d5563c6e-622f-42f1-95f8-e3efa1b020c9",
   "metadata": {},
   "outputs": [],
   "source": [
    "def find_longest_common_prefix(strs_lst):\n",
    "    \"\"\"\n",
    "    For a given list of strings, returns the longest common prefix.\n",
    "    \n",
    "    Parameters\n",
    "    ----------\n",
    "    strs_lst : list\n",
    "        A list of string values\n",
    "\n",
    "    Returns\n",
    "    -------\n",
    "    out : str\n",
    "        The longest common prefix of the strings provided in `strs_lst`\n",
    "    \"\"\"\n",
    "    out = strs_lst[0]\n",
    "    for i in range(1, len(strs_lst)):\n",
    "        item = strs_lst[i]\n",
    "        n = min(len(out), len(item))\n",
    "        if n == 0:\n",
    "            out = \"\"\n",
    "            break\n",
    "        \n",
    "        for j in range(min(len(out), n)):\n",
    "            if out[j] == item[j]:\n",
    "                stop = j + 1\n",
    "                continue\n",
    "\n",
    "            stop = j\n",
    "            break\n",
    "        \n",
    "        out = out[:stop]\n",
    "\n",
    "    return out"
   ]
  },
  {
   "cell_type": "code",
   "execution_count": 10,
   "id": "420adc0b-a2db-4639-a9c6-d2030afd2c63",
   "metadata": {},
   "outputs": [],
   "source": [
    "strs = [\"flower\",\"flow\",\"flight\"]\n",
    "assert find_longest_common_prefix(strs) == 'fl'\n",
    "\n",
    "assert find_longest_common_prefix([\"ab\", \"a\"]) == \"a\"\n",
    "\n",
    "assert find_longest_common_prefix([\"\", \"\"]) == \"\""
   ]
  },
  {
   "cell_type": "markdown",
   "id": "debca247-fc56-4d73-9aeb-7458324d3cc1",
   "metadata": {},
   "source": [
    "# Valid Paranthesis\n",
    "link: https://leetcode.com/problems/valid-parentheses/description/"
   ]
  },
  {
   "cell_type": "code",
   "execution_count": 22,
   "id": "6643ede8-548b-4f5c-8197-7612302aea38",
   "metadata": {},
   "outputs": [],
   "source": [
    "def is_paranthesis_valid(s):\n",
    "    \"\"\"\n",
    "    For a given string `s` consisting of paranthesis characters, i.e. \n",
    "    `(`, `)`, `[`, `]`, `{`, and `}`, returns `True` if valid. \n",
    "\n",
    "    Parameters\n",
    "    ----------\n",
    "    s : string\n",
    "        A string that consists of paranthesis\n",
    "\n",
    "    Returns\n",
    "    -------\n",
    "    out : bool\n",
    "        True if the string `s` represents a valid paranthesis.\n",
    "    \"\"\"\n",
    "    tracker = []\n",
    "\n",
    "    paranthesis_pairs = {\n",
    "        ')': '(',\n",
    "        ']': '[',\n",
    "        '}': '{',\n",
    "    }\n",
    "\n",
    "    flag = True\n",
    "    for c in s:\n",
    "        c_pair = paranthesis_pairs.get(c, None)\n",
    "        if c_pair is None:\n",
    "            tracker.append(c)\n",
    "        elif len(tracker) > 0 and tracker.pop() == c_pair:\n",
    "            continue\n",
    "        else:\n",
    "            flag = False\n",
    "            break\n",
    "    \n",
    "    if flag == False or len(tracker) != 0:\n",
    "        out = False\n",
    "    else:\n",
    "        out = True\n",
    "\n",
    "    return out"
   ]
  },
  {
   "cell_type": "code",
   "execution_count": 23,
   "id": "3e42247c-2268-4427-a116-53e10fde4b8a",
   "metadata": {},
   "outputs": [],
   "source": [
    "s = '{()}'\n",
    "assert is_paranthesis_valid(s) == True\n",
    "\n",
    "s = ''\n",
    "assert is_paranthesis_valid(s) == True\n",
    "\n",
    "s = '{}()'\n",
    "assert is_paranthesis_valid(s) == True\n",
    "\n",
    "s = '{()}[]'\n",
    "assert is_paranthesis_valid(s) == True\n",
    "\n",
    "s = ']'\n",
    "assert is_paranthesis_valid(s) == False\n",
    "\n",
    "s = '{'\n",
    "assert is_paranthesis_valid(s) == False\n",
    "\n",
    "s = '{]'\n",
    "assert is_paranthesis_valid(s) == False\n",
    "\n",
    "s = '[]('\n",
    "assert is_paranthesis_valid(s) == False"
   ]
  },
  {
   "cell_type": "code",
   "execution_count": null,
   "id": "e6ab046e-e3ef-4bce-a28d-cdb843872765",
   "metadata": {},
   "outputs": [],
   "source": []
  }
 ],
 "metadata": {
  "kernelspec": {
   "display_name": "Python 3 (ipykernel)",
   "language": "python",
   "name": "python3"
  },
  "language_info": {
   "codemirror_mode": {
    "name": "ipython",
    "version": 3
   },
   "file_extension": ".py",
   "mimetype": "text/x-python",
   "name": "python",
   "nbconvert_exporter": "python",
   "pygments_lexer": "ipython3",
   "version": "3.9.15"
  }
 },
 "nbformat": 4,
 "nbformat_minor": 5
}
